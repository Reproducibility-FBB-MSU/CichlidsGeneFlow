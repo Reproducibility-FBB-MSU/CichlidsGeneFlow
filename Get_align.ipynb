{
 "cells": [
  {
   "cell_type": "code",
   "execution_count": 9,
   "metadata": {
    "scrolled": true
   },
   "outputs": [
    {
     "name": "stdout",
     "output_type": "stream",
     "text": [
      "A, B, C:\n",
      "D_Strigatus.fasta\n",
      "P_Electra.fasta\n",
      "C_Virginalis.fasta\n",
      "Enter file name:\n",
      "stri_elec_virg\n"
     ]
    }
   ],
   "source": [
    "O = open('O.fasta', 'r')\n",
    "print('A, B, C:')\n",
    "A = open(input(), 'r')\n",
    "B = open(input(), 'r')\n",
    "C = open(input(), 'r')\n",
    "print('Enter file name:')\n",
    "outp = open(input(), 'w')\n",
    "\n",
    "\n",
    "scaf = 25\n",
    "outp.write(A.readline())\n",
    "k = 0\n",
    "for line in A:\n",
    "    if line[0] != '>':\n",
    "        outp.write(line)\n",
    "    elif line[0] == '>': \n",
    "        k += 1    \n",
    "        if k > scaf:\n",
    "            break\n",
    "        \n",
    "outp.write(B.readline())\n",
    "k = 0\n",
    "for line in B:\n",
    "    if line[0] != '>':\n",
    "        outp.write(line)\n",
    "    elif line[0] == '>': \n",
    "        k += 1    \n",
    "        if k > scaf:\n",
    "            break\n",
    "  \n",
    "outp.write(C.readline())\n",
    "k = 0\n",
    "for line in C:\n",
    "    if line[0] != '>':\n",
    "        outp.write(line)\n",
    "    elif line[0] == '>': \n",
    "        k += 1    \n",
    "        if k > scaf:\n",
    "            break\n",
    "        \n",
    "outp.write(O.readline())\n",
    "k = 0\n",
    "for line in O:\n",
    "    if line[0] != '>':\n",
    "        outp.write(line)\n",
    "    elif line[0] == '>': \n",
    "        k += 1\n",
    "        if k > scaf:\n",
    "            break \n",
    "\n",
    "outp.close()"
   ]
  },
  {
   "cell_type": "code",
   "execution_count": null,
   "metadata": {},
   "outputs": [],
   "source": []
  }
 ],
 "metadata": {
  "kernelspec": {
   "display_name": "Python 3",
   "language": "python",
   "name": "python3"
  }
 },
 "nbformat": 4,
 "nbformat_minor": 2
}
