{
 "cells": [
  {
   "cell_type": "code",
   "execution_count": 3,
   "metadata": {},
   "outputs": [
    {
     "name": "stdout",
     "output_type": "stream",
     "text": [
      "tetr_long_virg\n",
      "tetr_virg4_virg\n",
      "N1 = 8326\n",
      "D1 = 0.07906782397295398\n",
      "N2 = 55106\n",
      "D2 = 0.3706698236314961\n",
      "F = 0.15109062534025333\n"
     ]
    }
   ],
   "source": [
    "file = open(input(), 'r')\n",
    "file2 = open(input(), 'r')\n",
    "s = file.readlines()\n",
    "sets = \"\".join(s)\n",
    "\n",
    "s1 = \"\".join(sets.split('>')[1].split(\"\\n\")[1:])\n",
    "s2 = \"\".join(sets.split('>')[2].split(\"\\n\")[1:])\n",
    "s3 = \"\".join(sets.split('>')[3].split(\"\\n\")[1:])\n",
    "s4 = \"\".join(sets.split('>')[4].split(\"\\n\")[1:])\n",
    "abba = 0\n",
    "baba = 0\n",
    "\n",
    "for i in range(len(s1)):\n",
    "    if s1[i] == s4[i] and s2[i] == s3[i] and s2[i] != s4[i]:\n",
    "        abba += 1\n",
    "    if s1[i] == s3[i] and s2[i] == s4[i] and s2[i] != s3[i]:\n",
    "        baba += 1\n",
    "if abba + baba == 0:\n",
    "    N1 = 0\n",
    "else:\n",
    "    N1 = (abba - baba)\n",
    "    D1 = (abba - baba)/(abba + baba)\n",
    "print (\"N1 =\", N1)\n",
    "print (\"D1 =\", D1)\n",
    "\n",
    "s = file2.readlines()\n",
    "sets = \"\".join(s)\n",
    "\n",
    "s1 = \"\".join(sets.split('>')[1].split(\"\\n\")[1:])\n",
    "s2 = \"\".join(sets.split('>')[2].split(\"\\n\")[1:])\n",
    "s3 = \"\".join(sets.split('>')[3].split(\"\\n\")[1:])\n",
    "s4 = \"\".join(sets.split('>')[4].split(\"\\n\")[1:])\n",
    "abba = 0\n",
    "baba = 0\n",
    "\n",
    "for i in range(len(s1)):\n",
    "    if s1[i] == s4[i] and s2[i] == s3[i] and s2[i] != s4[i]:\n",
    "        abba += 1\n",
    "    if s1[i] == s3[i] and s2[i] == s4[i] and s2[i] != s3[i]:\n",
    "        baba += 1\n",
    "if abba + baba == 0:\n",
    "    N2 = 0\n",
    "else:\n",
    "    N2 = (abba - baba)\n",
    "    D2 = (abba - baba)/(abba + baba)\n",
    "print (\"N2 =\", N2)\n",
    "print (\"D2 =\", D2)\n",
    "\n",
    "F = N1/N2\n",
    "print('F =', F)"
   ]
  },
  {
   "cell_type": "code",
   "execution_count": null,
   "metadata": {},
   "outputs": [],
   "source": []
  }
 ],
 "metadata": {
  "kernelspec": {
   "display_name": "Python 3",
   "language": "python",
   "name": "python3"
  },
  "language_info": {
   "codemirror_mode": {
    "name": "ipython",
    "version": 3
   },
   "file_extension": ".py",
   "mimetype": "text/x-python",
   "name": "python",
   "nbconvert_exporter": "python",
   "pygments_lexer": "ipython3",
   "version": "3.6.5"
  }
 },
 "nbformat": 4,
 "nbformat_minor": 2
}
