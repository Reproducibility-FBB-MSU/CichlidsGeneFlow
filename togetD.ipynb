{
 "cells": [
  {
   "cell_type": "code",
   "execution_count": 7,
   "metadata": {},
   "outputs": [
    {
     "name": "stdout",
     "output_type": "stream",
     "text": [
      "stri_elec_virg\n",
      "59254 49828\n",
      "D = 0.08641205698465375\n"
     ]
    }
   ],
   "source": [
    "file = open(input(), 'r')\n",
    "s = file.readlines()\n",
    "sets = \"\".join(s)\n",
    "\n",
    "s1 = \"\".join(sets.split('>')[1].split(\"\\n\")[1:])\n",
    "s2 = \"\".join(sets.split('>')[2].split(\"\\n\")[1:])\n",
    "s3 = \"\".join(sets.split('>')[3].split(\"\\n\")[1:])\n",
    "s4 = \"\".join(sets.split('>')[4].split(\"\\n\")[1:])\n",
    "abba = 0\n",
    "baba = 0\n",
    "for i in range(len(s1)):\n",
    "    if s1[i] == s4[i] and s2[i] == s3[i] and s2[i] != s4[i]:\n",
    "        abba += 1\n",
    "    if s1[i] == s3[i] and s2[i] == s4[i] and s2[i] != s3[i]:\n",
    "        baba += 1\n",
    "print (abba, baba)\n",
    "if abba + baba == 0:\n",
    "    D = 0\n",
    "else:\n",
    "    D = (abba - baba)/(abba + baba)\n",
    "print (\"D =\", D)"
   ]
  },
  {
   "cell_type": "code",
   "execution_count": 10,
   "metadata": {},
   "outputs": [
    {
     "name": "stdout",
     "output_type": "stream",
     "text": [
      "TATCAGTAGATGCATGCCAGGGGTGGATCAGGCATGCAAGAGGATTTTACCCCCGCTGCCTGGCTGGGGCCAATATAGCCTGTGATGTGGATGAGATTCT\n"
     ]
    }
   ],
   "source": [
    "s1 = \"\".join(sets.split('>')[1].split(\"\\n\")[1:])\n",
    "print(s1[:100])"
   ]
  }
 ],
 "metadata": {
  "kernelspec": {
   "display_name": "Python 3",
   "language": "python",
   "name": "python3"
  },
  "language_info": {
   "codemirror_mode": {
    "name": "ipython",
    "version": 3
   },
   "file_extension": ".py",
   "mimetype": "text/x-python",
   "name": "python",
   "nbconvert_exporter": "python",
   "pygments_lexer": "ipython3",
   "version": "3.6.5"
  }
 },
 "nbformat": 4,
 "nbformat_minor": 2
}
